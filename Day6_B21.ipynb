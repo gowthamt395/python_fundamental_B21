{
 "cells": [
  {
   "cell_type": "code",
   "execution_count": 1,
   "metadata": {},
   "outputs": [],
   "source": [
    "students = ['suresh','ramya','ysmeen','nihar','tarun','syeda','sneha']"
   ]
  },
  {
   "cell_type": "code",
   "execution_count": 3,
   "metadata": {},
   "outputs": [
    {
     "name": "stdout",
     "output_type": "stream",
     "text": [
      "['suresh', 'ramya', 'ysmeen', 'nihar', 'tarun', 'syeda', 'sneha']\n"
     ]
    }
   ],
   "source": [
    "print(students)"
   ]
  },
  {
   "cell_type": "code",
   "execution_count": 5,
   "metadata": {},
   "outputs": [],
   "source": [
    "#req  1.apppreiating the students for sending their work."
   ]
  },
  {
   "cell_type": "code",
   "execution_count": 6,
   "metadata": {},
   "outputs": [],
   "source": [
    "#2. Also will be looking forward to receive th files today"
   ]
  },
  {
   "cell_type": "code",
   "execution_count": 8,
   "metadata": {},
   "outputs": [
    {
     "name": "stdout",
     "output_type": "stream",
     "text": [
      "suresh\n",
      "ramya\n",
      "ysmeen\n",
      "nihar\n",
      "tarun\n",
      "syeda\n",
      "sneha\n"
     ]
    }
   ],
   "source": [
    "for student in students:\n",
    "    print(student)"
   ]
  },
  {
   "cell_type": "code",
   "execution_count": 9,
   "metadata": {},
   "outputs": [],
   "source": [
    "#enhancing the code"
   ]
  },
  {
   "cell_type": "code",
   "execution_count": 12,
   "metadata": {},
   "outputs": [
    {
     "name": "stdout",
     "output_type": "stream",
     "text": [
      "Keep up the good work,Suresh\n",
      "I am looking forward to receive your files of today,Suresh\n",
      "Keep up the good work,Ramya\n",
      "I am looking forward to receive your files of today,Ramya\n",
      "Keep up the good work,Ysmeen\n",
      "I am looking forward to receive your files of today,Ysmeen\n",
      "Keep up the good work,Nihar\n",
      "I am looking forward to receive your files of today,Nihar\n",
      "Keep up the good work,Tarun\n",
      "I am looking forward to receive your files of today,Tarun\n",
      "Keep up the good work,Syeda\n",
      "I am looking forward to receive your files of today,Syeda\n",
      "Keep up the good work,Sneha\n",
      "I am looking forward to receive your files of today,Sneha\n"
     ]
    }
   ],
   "source": [
    "for student in students:\n",
    "    print(f\"Keep up the good work,{student.title()}\")\n",
    "    print(f\"I am looking forward to receive your files of today,{student.title()}\")\n",
    "    "
   ]
  },
  {
   "cell_type": "code",
   "execution_count": 11,
   "metadata": {},
   "outputs": [],
   "source": [
    "#presenting in a good way"
   ]
  },
  {
   "cell_type": "code",
   "execution_count": 13,
   "metadata": {},
   "outputs": [
    {
     "name": "stdout",
     "output_type": "stream",
     "text": [
      "Keep up the good work,Suresh\n",
      "I am looking forward to receive your files for today,Suresh\n",
      "\n",
      "Keep up the good work,Ramya\n",
      "I am looking forward to receive your files for today,Ramya\n",
      "\n",
      "Keep up the good work,Ysmeen\n",
      "I am looking forward to receive your files for today,Ysmeen\n",
      "\n",
      "Keep up the good work,Nihar\n",
      "I am looking forward to receive your files for today,Nihar\n",
      "\n",
      "Keep up the good work,Tarun\n",
      "I am looking forward to receive your files for today,Tarun\n",
      "\n",
      "Keep up the good work,Syeda\n",
      "I am looking forward to receive your files for today,Syeda\n",
      "\n",
      "Keep up the good work,Sneha\n",
      "I am looking forward to receive your files for today,Sneha\n",
      "\n"
     ]
    }
   ],
   "source": [
    "for student in students:\n",
    "    print(f\"Keep up the good work,{student.title()}\")\n",
    "    print(f\"I am looking forward to receive your files for today,{student.title()}\\n\")"
   ]
  },
  {
   "cell_type": "code",
   "execution_count": 14,
   "metadata": {},
   "outputs": [],
   "source": [
    "#generic message to all students"
   ]
  },
  {
   "cell_type": "code",
   "execution_count": 15,
   "metadata": {},
   "outputs": [
    {
     "name": "stdout",
     "output_type": "stream",
     "text": [
      "Keep up the good work,Suresh\n",
      "I am looking forward to receive your files for today,Suresh\n",
      "\n",
      "Keep up the good work,Ramya\n",
      "I am looking forward to receive your files for today,Ramya\n",
      "\n",
      "Keep up the good work,Ysmeen\n",
      "I am looking forward to receive your files for today,Ysmeen\n",
      "\n",
      "Keep up the good work,Nihar\n",
      "I am looking forward to receive your files for today,Nihar\n",
      "\n",
      "Keep up the good work,Tarun\n",
      "I am looking forward to receive your files for today,Tarun\n",
      "\n",
      "Keep up the good work,Syeda\n",
      "I am looking forward to receive your files for today,Syeda\n",
      "\n",
      "Keep up the good work,Sneha\n",
      "I am looking forward to receive your files for today,Sneha\n",
      "\n",
      "Thank you all for joining in the python sessions\n"
     ]
    }
   ],
   "source": [
    "for student in students:\n",
    "        print(f\"Keep up the good work,{student.title()}\")\n",
    "        print(f\"I am looking forward to receive your files for today,{student.title()}\\n\")\n",
    "print('Thank you all for joining in the python sessions')        \n",
    "        \n",
    "\n",
    "    \n"
   ]
  },
  {
   "cell_type": "code",
   "execution_count": null,
   "metadata": {},
   "outputs": [],
   "source": [
    "Introduction to if else condition"
   ]
  },
  {
   "cell_type": "code",
   "execution_count": 16,
   "metadata": {},
   "outputs": [],
   "source": [
    "places = ['jakarta','bali','berlin','munich','dubai']\n"
   ]
  },
  {
   "cell_type": "code",
   "execution_count": 17,
   "metadata": {},
   "outputs": [],
   "source": [
    "#req : berlin should be in all capitals and  the rest have to be in title"
   ]
  },
  {
   "cell_type": "code",
   "execution_count": 25,
   "metadata": {},
   "outputs": [
    {
     "name": "stdout",
     "output_type": "stream",
     "text": [
      "Jakarta\n",
      "Bali\n",
      "BERLIN\n",
      "Munich\n",
      "Dubai\n"
     ]
    }
   ],
   "source": [
    "for x in places:\n",
    "    if x == 'berlin':\n",
    "        print(x.upper())                         #applying the comparison operator '=='\n",
    "    else:\n",
    "        print(x.title())\n"
   ]
  },
  {
   "cell_type": "code",
   "execution_count": null,
   "metadata": {},
   "outputs": [],
   "source": [
    "Introduction to slicing of lists"
   ]
  },
  {
   "cell_type": "code",
   "execution_count": 26,
   "metadata": {},
   "outputs": [],
   "source": [
    "#req 1. jakarta and bali in a single group"
   ]
  },
  {
   "cell_type": "code",
   "execution_count": 27,
   "metadata": {},
   "outputs": [
    {
     "name": "stdout",
     "output_type": "stream",
     "text": [
      "['jakarta']\n"
     ]
    }
   ],
   "source": [
    "print(places[0:1])"
   ]
  },
  {
   "cell_type": "code",
   "execution_count": 28,
   "metadata": {},
   "outputs": [
    {
     "name": "stdout",
     "output_type": "stream",
     "text": [
      "['jakarta', 'bali']\n"
     ]
    }
   ],
   "source": [
    "print(places[0:2])"
   ]
  },
  {
   "cell_type": "code",
   "execution_count": 29,
   "metadata": {},
   "outputs": [
    {
     "name": "stdout",
     "output_type": "stream",
     "text": [
      "['berlin', 'munich']\n"
     ]
    }
   ],
   "source": [
    "print(places[2:4])"
   ]
  },
  {
   "cell_type": "code",
   "execution_count": 31,
   "metadata": {},
   "outputs": [
    {
     "name": "stdout",
     "output_type": "stream",
     "text": [
      "dubai\n"
     ]
    }
   ],
   "source": [
    "print(places[4])"
   ]
  },
  {
   "cell_type": "code",
   "execution_count": null,
   "metadata": {},
   "outputs": [],
   "source": []
  },
  {
   "cell_type": "code",
   "execution_count": null,
   "metadata": {},
   "outputs": [],
   "source": []
  },
  {
   "cell_type": "code",
   "execution_count": null,
   "metadata": {},
   "outputs": [],
   "source": []
  },
  {
   "cell_type": "code",
   "execution_count": null,
   "metadata": {},
   "outputs": [],
   "source": []
  }
 ],
 "metadata": {
  "kernelspec": {
   "display_name": "Python 3",
   "language": "python",
   "name": "python3"
  },
  "language_info": {
   "codemirror_mode": {
    "name": "ipython",
    "version": 3
   },
   "file_extension": ".py",
   "mimetype": "text/x-python",
   "name": "python",
   "nbconvert_exporter": "python",
   "pygments_lexer": "ipython3",
   "version": "3.7.6"
  }
 },
 "nbformat": 4,
 "nbformat_minor": 4
}
